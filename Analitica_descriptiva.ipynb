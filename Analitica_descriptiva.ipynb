{
  "nbformat": 4,
  "nbformat_minor": 0,
  "metadata": {
    "colab": {
      "provenance": [],
      "authorship_tag": "ABX9TyPTy+mX3y/pcBUvWUaiLAnu",
      "include_colab_link": true
    },
    "kernelspec": {
      "name": "python3",
      "display_name": "Python 3"
    },
    "language_info": {
      "name": "python"
    }
  },
  "cells": [
    {
      "cell_type": "markdown",
      "metadata": {
        "id": "view-in-github",
        "colab_type": "text"
      },
      "source": [
        "<a href=\"https://colab.research.google.com/github/dayaleroro/Anal-ticaDescriptivaI/blob/main/Analitica_descriptiva.ipynb\" target=\"_parent\"><img src=\"https://colab.research.google.com/assets/colab-badge.svg\" alt=\"Open In Colab\"/></a>"
      ]
    },
    {
      "cell_type": "code",
      "source": [
        "# Importación de Librerías\n",
        "\n",
        "import pandas as pd\n",
        "import numpy as np\n",
        "import seaborn as sns\n",
        "import matplotlib.pyplot as plt\n",
        "\n",
        "# Cargar dataset de información para explorar\n",
        "df = pd.read_csv(\"Comportamiento_del_tr_mite_de_expedici_n_de_visa_colombiana_a_nacionales_de_Venezuela_20250224.csv\")\n"
      ],
      "metadata": {
        "colab": {
          "base_uri": "https://localhost:8080/"
        },
        "id": "oJIcv1EdBlVc",
        "outputId": "766e2dce-c294-4728-cef2-56cb41c48649"
      },
      "execution_count": 54,
      "outputs": [
        {
          "output_type": "stream",
          "name": "stderr",
          "text": [
            "<ipython-input-54-5d0a3d9d8467>:9: DtypeWarning: Columns (4) have mixed types. Specify dtype option on import or set low_memory=False.\n",
            "  df = pd.read_csv(\"Comportamiento_del_tr_mite_de_expedici_n_de_visa_colombiana_a_nacionales_de_Venezuela_20250224.csv\")\n"
          ]
        }
      ]
    },
    {
      "cell_type": "code",
      "source": [
        "# Visualización Inicial del Dataset\n",
        "## Muestra las primeras filas del dataset para tener una idea inicial de su estructura\n",
        "df.head(5)\n"
      ],
      "metadata": {
        "colab": {
          "base_uri": "https://localhost:8080/",
          "height": 399
        },
        "id": "XHei3uexC_00",
        "outputId": "90d79dbe-041e-42cd-9883-f63bc1aaceaa"
      },
      "execution_count": 58,
      "outputs": [
        {
          "output_type": "execute_result",
          "data": {
            "text/plain": [
              "     Tipo de visa                   Actividad de la visa País de nacimiento  \\\n",
              "0        NEGOCIOS                                   NE-1          ARGENTINA   \n",
              "1        NEGOCIOS                                   NE-1          ARGENTINA   \n",
              "2  VISAS MIGRANTE  C�NYUGE DE NACIONALIDAD COLOMBIANO(A)          VENEZUELA   \n",
              "3        NEGOCIOS                                   NE-1              CHILE   \n",
              "4  VISAS MIGRANTE                             TRABAJADOR          VENEZUELA   \n",
              "\n",
              "  Sexo Edad Tiene Hijos       Nivel académico     Area conocimiento  \\\n",
              "0    M   49          NO         (NO REGISTRA)         (NO REGISTRA)   \n",
              "1    M   52          NO  POSTGRADO - MAESTRIA  CIENCIAS DE LA SALUD   \n",
              "2    M   69          NO         SIN PROFESI�N               NINGUNA   \n",
              "3    M   62          NO         (NO REGISTRA)         (NO REGISTRA)   \n",
              "4    M   18          NO         SIN PROFESI�N               NINGUNA   \n",
              "\n",
              "  Subarea conocimiento Ciudad domicilio Colombia  \\\n",
              "0        (NO REGISTRA)                    CUCUTA   \n",
              "1             MEDICINA              BARRANQUILLA   \n",
              "2              NINGUNA                   ARMENIA   \n",
              "3        (NO REGISTRA)                    CUCUTA   \n",
              "4              NINGUNA               BOGOTA D.C.   \n",
              "\n",
              "   Ciudad domicilio Colombia Código Departamento domicilio Colombia  \\\n",
              "0                             54001              NORTE DE SANTANDER   \n",
              "1                              8001                       ATLANTICO   \n",
              "2                             63001                         QUINDIO   \n",
              "3                             54001              NORTE DE SANTANDER   \n",
              "4                             11001                    CUNDINAMARCA   \n",
              "\n",
              "  Actividad en Colombia Ocupación en Colombia Sector de actividad en Colombia  \\\n",
              "0             NO INDICA           NO REGISTRA                       NO INDICA   \n",
              "1             NO INDICA           NO REGISTRA                       SERVICIOS   \n",
              "2               TRABAJO           NO REGISTRA                       SERVICIOS   \n",
              "3             NO INDICA       INGENIERO CIVIL                       NO INDICA   \n",
              "4             NO INDICA                 HOGAR                       NO INDICA   \n",
              "\n",
              "  Tiene familiares residentes en Colombia  Año Expedición  Mes expedición  \\\n",
              "0                                      NO            2014               1   \n",
              "1                                      NO            2017               3   \n",
              "2                                      NO            2023              10   \n",
              "3                                      NO            2014               2   \n",
              "4                                      NO            2023              10   \n",
              "\n",
              "   Numero  \n",
              "0       1  \n",
              "1       1  \n",
              "2       1  \n",
              "3       1  \n",
              "4       1  "
            ],
            "text/html": [
              "\n",
              "  <div id=\"df-d2d794f8-b113-479a-80f0-21f44ffe7117\" class=\"colab-df-container\">\n",
              "    <div>\n",
              "<style scoped>\n",
              "    .dataframe tbody tr th:only-of-type {\n",
              "        vertical-align: middle;\n",
              "    }\n",
              "\n",
              "    .dataframe tbody tr th {\n",
              "        vertical-align: top;\n",
              "    }\n",
              "\n",
              "    .dataframe thead th {\n",
              "        text-align: right;\n",
              "    }\n",
              "</style>\n",
              "<table border=\"1\" class=\"dataframe\">\n",
              "  <thead>\n",
              "    <tr style=\"text-align: right;\">\n",
              "      <th></th>\n",
              "      <th>Tipo de visa</th>\n",
              "      <th>Actividad de la visa</th>\n",
              "      <th>País de nacimiento</th>\n",
              "      <th>Sexo</th>\n",
              "      <th>Edad</th>\n",
              "      <th>Tiene Hijos</th>\n",
              "      <th>Nivel académico</th>\n",
              "      <th>Area conocimiento</th>\n",
              "      <th>Subarea conocimiento</th>\n",
              "      <th>Ciudad domicilio Colombia</th>\n",
              "      <th>Ciudad domicilio Colombia Código</th>\n",
              "      <th>Departamento domicilio Colombia</th>\n",
              "      <th>Actividad en Colombia</th>\n",
              "      <th>Ocupación en Colombia</th>\n",
              "      <th>Sector de actividad en Colombia</th>\n",
              "      <th>Tiene familiares residentes en Colombia</th>\n",
              "      <th>Año Expedición</th>\n",
              "      <th>Mes expedición</th>\n",
              "      <th>Numero</th>\n",
              "    </tr>\n",
              "  </thead>\n",
              "  <tbody>\n",
              "    <tr>\n",
              "      <th>0</th>\n",
              "      <td>NEGOCIOS</td>\n",
              "      <td>NE-1</td>\n",
              "      <td>ARGENTINA</td>\n",
              "      <td>M</td>\n",
              "      <td>49</td>\n",
              "      <td>NO</td>\n",
              "      <td>(NO REGISTRA)</td>\n",
              "      <td>(NO REGISTRA)</td>\n",
              "      <td>(NO REGISTRA)</td>\n",
              "      <td>CUCUTA</td>\n",
              "      <td>54001</td>\n",
              "      <td>NORTE DE SANTANDER</td>\n",
              "      <td>NO INDICA</td>\n",
              "      <td>NO REGISTRA</td>\n",
              "      <td>NO INDICA</td>\n",
              "      <td>NO</td>\n",
              "      <td>2014</td>\n",
              "      <td>1</td>\n",
              "      <td>1</td>\n",
              "    </tr>\n",
              "    <tr>\n",
              "      <th>1</th>\n",
              "      <td>NEGOCIOS</td>\n",
              "      <td>NE-1</td>\n",
              "      <td>ARGENTINA</td>\n",
              "      <td>M</td>\n",
              "      <td>52</td>\n",
              "      <td>NO</td>\n",
              "      <td>POSTGRADO - MAESTRIA</td>\n",
              "      <td>CIENCIAS DE LA SALUD</td>\n",
              "      <td>MEDICINA</td>\n",
              "      <td>BARRANQUILLA</td>\n",
              "      <td>8001</td>\n",
              "      <td>ATLANTICO</td>\n",
              "      <td>NO INDICA</td>\n",
              "      <td>NO REGISTRA</td>\n",
              "      <td>SERVICIOS</td>\n",
              "      <td>NO</td>\n",
              "      <td>2017</td>\n",
              "      <td>3</td>\n",
              "      <td>1</td>\n",
              "    </tr>\n",
              "    <tr>\n",
              "      <th>2</th>\n",
              "      <td>VISAS MIGRANTE</td>\n",
              "      <td>C�NYUGE DE NACIONALIDAD COLOMBIANO(A)</td>\n",
              "      <td>VENEZUELA</td>\n",
              "      <td>M</td>\n",
              "      <td>69</td>\n",
              "      <td>NO</td>\n",
              "      <td>SIN PROFESI�N</td>\n",
              "      <td>NINGUNA</td>\n",
              "      <td>NINGUNA</td>\n",
              "      <td>ARMENIA</td>\n",
              "      <td>63001</td>\n",
              "      <td>QUINDIO</td>\n",
              "      <td>TRABAJO</td>\n",
              "      <td>NO REGISTRA</td>\n",
              "      <td>SERVICIOS</td>\n",
              "      <td>NO</td>\n",
              "      <td>2023</td>\n",
              "      <td>10</td>\n",
              "      <td>1</td>\n",
              "    </tr>\n",
              "    <tr>\n",
              "      <th>3</th>\n",
              "      <td>NEGOCIOS</td>\n",
              "      <td>NE-1</td>\n",
              "      <td>CHILE</td>\n",
              "      <td>M</td>\n",
              "      <td>62</td>\n",
              "      <td>NO</td>\n",
              "      <td>(NO REGISTRA)</td>\n",
              "      <td>(NO REGISTRA)</td>\n",
              "      <td>(NO REGISTRA)</td>\n",
              "      <td>CUCUTA</td>\n",
              "      <td>54001</td>\n",
              "      <td>NORTE DE SANTANDER</td>\n",
              "      <td>NO INDICA</td>\n",
              "      <td>INGENIERO CIVIL</td>\n",
              "      <td>NO INDICA</td>\n",
              "      <td>NO</td>\n",
              "      <td>2014</td>\n",
              "      <td>2</td>\n",
              "      <td>1</td>\n",
              "    </tr>\n",
              "    <tr>\n",
              "      <th>4</th>\n",
              "      <td>VISAS MIGRANTE</td>\n",
              "      <td>TRABAJADOR</td>\n",
              "      <td>VENEZUELA</td>\n",
              "      <td>M</td>\n",
              "      <td>18</td>\n",
              "      <td>NO</td>\n",
              "      <td>SIN PROFESI�N</td>\n",
              "      <td>NINGUNA</td>\n",
              "      <td>NINGUNA</td>\n",
              "      <td>BOGOTA D.C.</td>\n",
              "      <td>11001</td>\n",
              "      <td>CUNDINAMARCA</td>\n",
              "      <td>NO INDICA</td>\n",
              "      <td>HOGAR</td>\n",
              "      <td>NO INDICA</td>\n",
              "      <td>NO</td>\n",
              "      <td>2023</td>\n",
              "      <td>10</td>\n",
              "      <td>1</td>\n",
              "    </tr>\n",
              "  </tbody>\n",
              "</table>\n",
              "</div>\n",
              "    <div class=\"colab-df-buttons\">\n",
              "\n",
              "  <div class=\"colab-df-container\">\n",
              "    <button class=\"colab-df-convert\" onclick=\"convertToInteractive('df-d2d794f8-b113-479a-80f0-21f44ffe7117')\"\n",
              "            title=\"Convert this dataframe to an interactive table.\"\n",
              "            style=\"display:none;\">\n",
              "\n",
              "  <svg xmlns=\"http://www.w3.org/2000/svg\" height=\"24px\" viewBox=\"0 -960 960 960\">\n",
              "    <path d=\"M120-120v-720h720v720H120Zm60-500h600v-160H180v160Zm220 220h160v-160H400v160Zm0 220h160v-160H400v160ZM180-400h160v-160H180v160Zm440 0h160v-160H620v160ZM180-180h160v-160H180v160Zm440 0h160v-160H620v160Z\"/>\n",
              "  </svg>\n",
              "    </button>\n",
              "\n",
              "  <style>\n",
              "    .colab-df-container {\n",
              "      display:flex;\n",
              "      gap: 12px;\n",
              "    }\n",
              "\n",
              "    .colab-df-convert {\n",
              "      background-color: #E8F0FE;\n",
              "      border: none;\n",
              "      border-radius: 50%;\n",
              "      cursor: pointer;\n",
              "      display: none;\n",
              "      fill: #1967D2;\n",
              "      height: 32px;\n",
              "      padding: 0 0 0 0;\n",
              "      width: 32px;\n",
              "    }\n",
              "\n",
              "    .colab-df-convert:hover {\n",
              "      background-color: #E2EBFA;\n",
              "      box-shadow: 0px 1px 2px rgba(60, 64, 67, 0.3), 0px 1px 3px 1px rgba(60, 64, 67, 0.15);\n",
              "      fill: #174EA6;\n",
              "    }\n",
              "\n",
              "    .colab-df-buttons div {\n",
              "      margin-bottom: 4px;\n",
              "    }\n",
              "\n",
              "    [theme=dark] .colab-df-convert {\n",
              "      background-color: #3B4455;\n",
              "      fill: #D2E3FC;\n",
              "    }\n",
              "\n",
              "    [theme=dark] .colab-df-convert:hover {\n",
              "      background-color: #434B5C;\n",
              "      box-shadow: 0px 1px 3px 1px rgba(0, 0, 0, 0.15);\n",
              "      filter: drop-shadow(0px 1px 2px rgba(0, 0, 0, 0.3));\n",
              "      fill: #FFFFFF;\n",
              "    }\n",
              "  </style>\n",
              "\n",
              "    <script>\n",
              "      const buttonEl =\n",
              "        document.querySelector('#df-d2d794f8-b113-479a-80f0-21f44ffe7117 button.colab-df-convert');\n",
              "      buttonEl.style.display =\n",
              "        google.colab.kernel.accessAllowed ? 'block' : 'none';\n",
              "\n",
              "      async function convertToInteractive(key) {\n",
              "        const element = document.querySelector('#df-d2d794f8-b113-479a-80f0-21f44ffe7117');\n",
              "        const dataTable =\n",
              "          await google.colab.kernel.invokeFunction('convertToInteractive',\n",
              "                                                    [key], {});\n",
              "        if (!dataTable) return;\n",
              "\n",
              "        const docLinkHtml = 'Like what you see? Visit the ' +\n",
              "          '<a target=\"_blank\" href=https://colab.research.google.com/notebooks/data_table.ipynb>data table notebook</a>'\n",
              "          + ' to learn more about interactive tables.';\n",
              "        element.innerHTML = '';\n",
              "        dataTable['output_type'] = 'display_data';\n",
              "        await google.colab.output.renderOutput(dataTable, element);\n",
              "        const docLink = document.createElement('div');\n",
              "        docLink.innerHTML = docLinkHtml;\n",
              "        element.appendChild(docLink);\n",
              "      }\n",
              "    </script>\n",
              "  </div>\n",
              "\n",
              "\n",
              "<div id=\"df-7c038c83-706a-4586-bc8e-d741836ae16c\">\n",
              "  <button class=\"colab-df-quickchart\" onclick=\"quickchart('df-7c038c83-706a-4586-bc8e-d741836ae16c')\"\n",
              "            title=\"Suggest charts\"\n",
              "            style=\"display:none;\">\n",
              "\n",
              "<svg xmlns=\"http://www.w3.org/2000/svg\" height=\"24px\"viewBox=\"0 0 24 24\"\n",
              "     width=\"24px\">\n",
              "    <g>\n",
              "        <path d=\"M19 3H5c-1.1 0-2 .9-2 2v14c0 1.1.9 2 2 2h14c1.1 0 2-.9 2-2V5c0-1.1-.9-2-2-2zM9 17H7v-7h2v7zm4 0h-2V7h2v10zm4 0h-2v-4h2v4z\"/>\n",
              "    </g>\n",
              "</svg>\n",
              "  </button>\n",
              "\n",
              "<style>\n",
              "  .colab-df-quickchart {\n",
              "      --bg-color: #E8F0FE;\n",
              "      --fill-color: #1967D2;\n",
              "      --hover-bg-color: #E2EBFA;\n",
              "      --hover-fill-color: #174EA6;\n",
              "      --disabled-fill-color: #AAA;\n",
              "      --disabled-bg-color: #DDD;\n",
              "  }\n",
              "\n",
              "  [theme=dark] .colab-df-quickchart {\n",
              "      --bg-color: #3B4455;\n",
              "      --fill-color: #D2E3FC;\n",
              "      --hover-bg-color: #434B5C;\n",
              "      --hover-fill-color: #FFFFFF;\n",
              "      --disabled-bg-color: #3B4455;\n",
              "      --disabled-fill-color: #666;\n",
              "  }\n",
              "\n",
              "  .colab-df-quickchart {\n",
              "    background-color: var(--bg-color);\n",
              "    border: none;\n",
              "    border-radius: 50%;\n",
              "    cursor: pointer;\n",
              "    display: none;\n",
              "    fill: var(--fill-color);\n",
              "    height: 32px;\n",
              "    padding: 0;\n",
              "    width: 32px;\n",
              "  }\n",
              "\n",
              "  .colab-df-quickchart:hover {\n",
              "    background-color: var(--hover-bg-color);\n",
              "    box-shadow: 0 1px 2px rgba(60, 64, 67, 0.3), 0 1px 3px 1px rgba(60, 64, 67, 0.15);\n",
              "    fill: var(--button-hover-fill-color);\n",
              "  }\n",
              "\n",
              "  .colab-df-quickchart-complete:disabled,\n",
              "  .colab-df-quickchart-complete:disabled:hover {\n",
              "    background-color: var(--disabled-bg-color);\n",
              "    fill: var(--disabled-fill-color);\n",
              "    box-shadow: none;\n",
              "  }\n",
              "\n",
              "  .colab-df-spinner {\n",
              "    border: 2px solid var(--fill-color);\n",
              "    border-color: transparent;\n",
              "    border-bottom-color: var(--fill-color);\n",
              "    animation:\n",
              "      spin 1s steps(1) infinite;\n",
              "  }\n",
              "\n",
              "  @keyframes spin {\n",
              "    0% {\n",
              "      border-color: transparent;\n",
              "      border-bottom-color: var(--fill-color);\n",
              "      border-left-color: var(--fill-color);\n",
              "    }\n",
              "    20% {\n",
              "      border-color: transparent;\n",
              "      border-left-color: var(--fill-color);\n",
              "      border-top-color: var(--fill-color);\n",
              "    }\n",
              "    30% {\n",
              "      border-color: transparent;\n",
              "      border-left-color: var(--fill-color);\n",
              "      border-top-color: var(--fill-color);\n",
              "      border-right-color: var(--fill-color);\n",
              "    }\n",
              "    40% {\n",
              "      border-color: transparent;\n",
              "      border-right-color: var(--fill-color);\n",
              "      border-top-color: var(--fill-color);\n",
              "    }\n",
              "    60% {\n",
              "      border-color: transparent;\n",
              "      border-right-color: var(--fill-color);\n",
              "    }\n",
              "    80% {\n",
              "      border-color: transparent;\n",
              "      border-right-color: var(--fill-color);\n",
              "      border-bottom-color: var(--fill-color);\n",
              "    }\n",
              "    90% {\n",
              "      border-color: transparent;\n",
              "      border-bottom-color: var(--fill-color);\n",
              "    }\n",
              "  }\n",
              "</style>\n",
              "\n",
              "  <script>\n",
              "    async function quickchart(key) {\n",
              "      const quickchartButtonEl =\n",
              "        document.querySelector('#' + key + ' button');\n",
              "      quickchartButtonEl.disabled = true;  // To prevent multiple clicks.\n",
              "      quickchartButtonEl.classList.add('colab-df-spinner');\n",
              "      try {\n",
              "        const charts = await google.colab.kernel.invokeFunction(\n",
              "            'suggestCharts', [key], {});\n",
              "      } catch (error) {\n",
              "        console.error('Error during call to suggestCharts:', error);\n",
              "      }\n",
              "      quickchartButtonEl.classList.remove('colab-df-spinner');\n",
              "      quickchartButtonEl.classList.add('colab-df-quickchart-complete');\n",
              "    }\n",
              "    (() => {\n",
              "      let quickchartButtonEl =\n",
              "        document.querySelector('#df-7c038c83-706a-4586-bc8e-d741836ae16c button');\n",
              "      quickchartButtonEl.style.display =\n",
              "        google.colab.kernel.accessAllowed ? 'block' : 'none';\n",
              "    })();\n",
              "  </script>\n",
              "</div>\n",
              "\n",
              "    </div>\n",
              "  </div>\n"
            ],
            "application/vnd.google.colaboratory.intrinsic+json": {
              "type": "dataframe",
              "variable_name": "df"
            }
          },
          "metadata": {},
          "execution_count": 58
        }
      ]
    },
    {
      "cell_type": "code",
      "source": [
        "# Obtén el número de filas y columnas del dataset\n",
        "\n",
        "print(\"\\nNúmero de filas y columnas:\", df.shape)"
      ],
      "metadata": {
        "colab": {
          "base_uri": "https://localhost:8080/"
        },
        "id": "BucrA8s3FS5F",
        "outputId": "dee373fb-bfe9-499f-c2ba-d17b2984d43a"
      },
      "execution_count": 59,
      "outputs": [
        {
          "output_type": "stream",
          "name": "stdout",
          "text": [
            "\n",
            "Número de filas y columnas: (133970, 19)\n"
          ]
        }
      ]
    },
    {
      "cell_type": "code",
      "source": [
        "# Obtén información sobre los tipos de datos y la presencia de valores nulos\n",
        "df.info()"
      ],
      "metadata": {
        "colab": {
          "base_uri": "https://localhost:8080/"
        },
        "id": "3RfE6E7NFuHD",
        "outputId": "d799578d-73dc-4169-a927-2ea5ee0913d1"
      },
      "execution_count": 60,
      "outputs": [
        {
          "output_type": "stream",
          "name": "stdout",
          "text": [
            "<class 'pandas.core.frame.DataFrame'>\n",
            "RangeIndex: 133970 entries, 0 to 133969\n",
            "Data columns (total 19 columns):\n",
            " #   Column                                   Non-Null Count   Dtype \n",
            "---  ------                                   --------------   ----- \n",
            " 0   Tipo de visa                             133970 non-null  object\n",
            " 1   Actividad de la visa                     133970 non-null  object\n",
            " 2   País de nacimiento                       133970 non-null  object\n",
            " 3   Sexo                                     133970 non-null  object\n",
            " 4   Edad                                     133970 non-null  object\n",
            " 5   Tiene Hijos                              133970 non-null  object\n",
            " 6   Nivel académico                          133970 non-null  object\n",
            " 7   Area conocimiento                        133970 non-null  object\n",
            " 8   Subarea conocimiento                     133970 non-null  object\n",
            " 9   Ciudad domicilio Colombia                133970 non-null  object\n",
            " 10  Ciudad domicilio Colombia Código         133970 non-null  int64 \n",
            " 11  Departamento domicilio Colombia          133970 non-null  object\n",
            " 12  Actividad en Colombia                    133970 non-null  object\n",
            " 13  Ocupación en Colombia                    133958 non-null  object\n",
            " 14  Sector de actividad en Colombia          133970 non-null  object\n",
            " 15  Tiene familiares residentes en Colombia  133970 non-null  object\n",
            " 16  Año Expedición                           133970 non-null  int64 \n",
            " 17  Mes expedición                           133970 non-null  int64 \n",
            " 18  Numero                                   133970 non-null  int64 \n",
            "dtypes: int64(4), object(15)\n",
            "memory usage: 19.4+ MB\n"
          ]
        }
      ]
    },
    {
      "cell_type": "code",
      "source": [
        "print(df.isnull().sum())"
      ],
      "metadata": {
        "colab": {
          "base_uri": "https://localhost:8080/"
        },
        "id": "Sn6yk_42FyuW",
        "outputId": "23bfdf1c-2865-47a6-8023-0d49eda31322"
      },
      "execution_count": 24,
      "outputs": [
        {
          "output_type": "stream",
          "name": "stdout",
          "text": [
            "Tipo de visa                                0\n",
            "Actividad de la visa                        0\n",
            "País de nacimiento                          0\n",
            "Sexo                                        0\n",
            "Edad                                        0\n",
            "Tiene Hijos                                 0\n",
            "Nivel académico                             0\n",
            "Area conocimiento                           0\n",
            "Subarea conocimiento                        0\n",
            "Ciudad domicilio Colombia                   0\n",
            "Ciudad domicilio Colombia Código            0\n",
            "Departamento domicilio Colombia             0\n",
            "Actividad en Colombia                       0\n",
            "Ocupación en Colombia                      12\n",
            "Sector de actividad en Colombia             0\n",
            "Tiene familiares residentes en Colombia     0\n",
            "Año Expedición                              0\n",
            "Mes expedición                              0\n",
            "Numero                                      0\n",
            "dtype: int64\n"
          ]
        }
      ]
    },
    {
      "cell_type": "code",
      "source": [
        "# Genera estadísticas descriptivas para las variables numéricas\n",
        "print(df.describe())"
      ],
      "metadata": {
        "colab": {
          "base_uri": "https://localhost:8080/"
        },
        "id": "m_yGod1uHE_3",
        "outputId": "95096749-7ea1-4558-f2ed-fb8432ab563e"
      },
      "execution_count": 25,
      "outputs": [
        {
          "output_type": "stream",
          "name": "stdout",
          "text": [
            "       Ciudad domicilio Colombia Código  Año Expedición  Mes expedición  \\\n",
            "count                     133970.000000   133970.000000   133970.000000   \n",
            "mean                       13375.625371     2018.263559        6.702919   \n",
            "std                        21510.898343        3.090205        3.422807   \n",
            "min                            0.000000     2013.000000        1.000000   \n",
            "25%                            0.000000     2016.000000        4.000000   \n",
            "50%                         5266.000000     2018.000000        7.000000   \n",
            "75%                        11001.000000     2021.000000       10.000000   \n",
            "max                        99001.000000     2025.000000       12.000000   \n",
            "\n",
            "              Numero  \n",
            "count  133970.000000  \n",
            "mean        1.028200  \n",
            "std         0.219139  \n",
            "min         1.000000  \n",
            "25%         1.000000  \n",
            "50%         1.000000  \n",
            "75%         1.000000  \n",
            "max        15.000000  \n"
          ]
        }
      ]
    },
    {
      "cell_type": "code",
      "source": [
        "# Seleccionar solo columnas numéricas para la correlación\n",
        "numeric_df = df.select_dtypes(include=[np.number])\n",
        "\n",
        "# Diagrama de correlación\n",
        "if not numeric_df.empty:\n",
        "    plt.figure(figsize=(10, 6))\n",
        "    sns.heatmap(numeric_df.corr(), annot=True, cmap='coolwarm', fmt=\".2f\")\n",
        "    plt.title(\"Heatmap de Correlación\")\n",
        "    plt.show()\n",
        "else:\n",
        "    print(\"No hay columnas numéricas para generar un heatmap de correlación.\")"
      ],
      "metadata": {
        "colab": {
          "base_uri": "https://localhost:8080/",
          "height": 769
        },
        "id": "fz2eYTeDJH6h",
        "outputId": "4b97448c-7ff0-4f24-a131-e88b31a7801a"
      },
      "execution_count": 26,
      "outputs": [
        {
          "output_type": "display_data",
          "data": {
            "text/plain": [
              "<Figure size 1000x600 with 2 Axes>"
            ],
            "image/png": "[encoded data removed]"
          },
          "metadata": {}
        }
      ]
    },
    {
      "cell_type": "code",
      "source": [
        "df[\"Edad\"] = pd.to_numeric(df[\"Edad\"], errors=\"coerce\")\n",
        "df = df.dropna(subset=[\"Edad\"])\n",
        "\n",
        "# Estimadores centrales para Edad y Número\n",
        "if \"Edad\" in df.columns:\n",
        "    print(\"\\nMedidas de Edad:\")\n",
        "    print(\"Media:\", df[\"Edad\"].mean())\n",
        "    print(\"Mediana:\", df[\"Edad\"].median())\n",
        "    print(\"Moda:\", df[\"Edad\"].mode()[0])\n",
        "    print(\"Desviación estándar:\", df[\"Edad\"].std())\n",
        "\n",
        "if \"Numero\" in df.columns:\n",
        "    print(\"\\nMedidas de Número:\")\n",
        "    print(\"Media:\", df[\"Numero\"].mean())\n",
        "    print(\"Mediana:\", df[\"Numero\"].median())\n",
        "    print(\"Moda:\", df[\"Numero\"].mode()[0])\n"
      ],
      "metadata": {
        "colab": {
          "base_uri": "https://localhost:8080/"
        },
        "id": "gDFMIdCjKk5j",
        "outputId": "e1be1d4b-5d9e-4a19-e275-4c3e235acf8f"
      },
      "execution_count": 63,
      "outputs": [
        {
          "output_type": "stream",
          "name": "stdout",
          "text": [
            "\n",
            "Medidas de Edad:\n",
            "Media: 37.026319914605835\n",
            "Mediana: 36.0\n",
            "Moda: 33.0\n",
            "Desviación estándar: 14.8558373010505\n",
            "\n",
            "Medidas de Número:\n",
            "Media: 1.028200974866945\n",
            "Mediana: 1.0\n",
            "Moda: 1\n"
          ]
        }
      ]
    },
    {
      "cell_type": "code",
      "source": [
        "# Diagramas de Caja\n",
        "if \"Edad\" in df.columns:\n",
        "    plt.figure(figsize=(8, 4))\n",
        "    sns.boxplot(x=df[\"Edad\"])\n",
        "    plt.title(\"Diagrama de Caja - Edad\")\n",
        "    plt.show()\n",
        "\n",
        "if \"Numero\" in df.columns:\n",
        "    plt.figure(figsize=(8, 4))\n",
        "    sns.boxplot(x=df[\"Numero\"])\n",
        "    plt.title(\"Diagrama de Caja - Número\")\n",
        "    plt.show()\n"
      ],
      "metadata": {
        "colab": {
          "base_uri": "https://localhost:8080/",
          "height": 804
        },
        "id": "sbYS0n1fLcmI",
        "outputId": "11134ccc-2e92-4c64-d7a0-a4be113fc7c6"
      },
      "execution_count": 64,
      "outputs": [
        {
          "output_type": "display_data",
          "data": {
            "text/plain": [
              "<Figure size 800x400 with 1 Axes>"
            ],
            "image/png": "[encoded data removed]"
          },
          "metadata": {}
        },
        {
          "output_type": "display_data",
          "data": {
            "text/plain": [
              "<Figure size 800x400 with 1 Axes>"
            ],
            "image/png": "[encoded data removed]"
          },
          "metadata": {}
        }
      ]
    },
    {
      "cell_type": "code",
      "source": [
        "# Frecuencias de variables cualitativas\n",
        "for col in [\"Sexo\", \"Tipo de visa\", \"Nivel académico\"]:\n",
        "    if col in df.columns:\n",
        "        print(f\"\\nFrecuencia de {col}:\")\n",
        "        print(df[col].value_counts(normalize=True))\n"
      ],
      "metadata": {
        "colab": {
          "base_uri": "https://localhost:8080/"
        },
        "id": "0NgJzUYFNwW4",
        "outputId": "b38e54ec-e5af-4b11-f393-6d3f603d1738"
      },
      "execution_count": 65,
      "outputs": [
        {
          "output_type": "stream",
          "name": "stdout",
          "text": [
            "\n",
            "Frecuencia de Sexo:\n",
            "Sexo\n",
            "M     0.530982\n",
            "F     0.469004\n",
            "NB    0.000015\n",
            "Name: proportion, dtype: float64\n",
            "\n",
            "Frecuencia de Tipo de visa:\n",
            "Tipo de visa\n",
            "TEMPORAL           0.345652\n",
            "VISAS MIGRANTE     0.287869\n",
            "VISAS RESIDENTE    0.238141\n",
            "TRASPASOS          0.072137\n",
            "VISAS VISITANTE    0.048825\n",
            "NEGOCIOS           0.007375\n",
            "Name: proportion, dtype: float64\n",
            "\n",
            "Frecuencia de Nivel académico:\n",
            "Nivel académico\n",
            "PREGRADO - PROFESIONAL            0.402263\n",
            "SIN PROFESI�N                     0.288616\n",
            "PREGRADO - T�CNICO PROFESIONAL    0.083349\n",
            "(NO REGISTRA)                     0.071376\n",
            "POSTGRADO - ESPECIALIZACI�N       0.052998\n",
            "PREGRADO - TECNOL�GICO            0.044197\n",
            "POSTGRADO - MAESTRIA              0.043346\n",
            "POSTGRADO - DOCTORADO             0.013421\n",
            "BACHILLERATO                      0.000306\n",
            "PRIMARIA                          0.000127\n",
            "Name: proportion, dtype: float64\n"
          ]
        }
      ]
    },
    {
      "cell_type": "code",
      "source": [
        "print(\"\\nModa de Sexo:\")\n",
        "print(\"Moda:\", df[\"Sexo\"].mode()[0])\n",
        "\n",
        "print(\"\\nModa de Tipo de visa:\")\n",
        "print(\"Moda:\", df[\"Tipo de visa\"].mode()[0])\n",
        "\n",
        "print(\"\\nModa de Nivel académico:\")\n",
        "print(\"Moda:\", df[\"Nivel académico\"].mode()[0])"
      ],
      "metadata": {
        "colab": {
          "base_uri": "https://localhost:8080/"
        },
        "id": "YQC1Cm4HO30V",
        "outputId": "6a0db72e-c01c-4010-d1dd-2387ef5fabc7"
      },
      "execution_count": 66,
      "outputs": [
        {
          "output_type": "stream",
          "name": "stdout",
          "text": [
            "\n",
            "Moda de Sexo:\n",
            "Moda: M\n",
            "\n",
            "Moda de Tipo de visa:\n",
            "Moda: TEMPORAL\n",
            "\n",
            "Moda de Nivel académico:\n",
            "Moda: PREGRADO - PROFESIONAL\n"
          ]
        }
      ]
    },
    {
      "cell_type": "code",
      "source": [
        "# Tablas de contingencia\n",
        "if \"Tipo de visa\" in df.columns and \"Nivel académico\" in df.columns:\n",
        "    tabla_tipo_visa_nivel = pd.crosstab(df[\"Tipo de visa\"], df[\"Nivel académico\"])\n",
        "    print(\"\\nTabla de contingencia Tipo de visa vs. Nivel académico:\")\n",
        "    print(tabla_tipo_visa_nivel)\n",
        "\n",
        "if \"Sexo\" in df.columns and \"Tipo de visa\" in df.columns:\n",
        "    tabla_sexo_tipo_visa = pd.crosstab(df[\"Sexo\"], df[\"Tipo de visa\"])\n",
        "    print(\"\\nTabla de contingencia Sexo vs. Tipo de visa:\")\n",
        "    print(tabla_sexo_tipo_visa)\n"
      ],
      "metadata": {
        "colab": {
          "base_uri": "https://localhost:8080/"
        },
        "id": "vJm3niqmQqUf",
        "outputId": "8e1c8e82-519b-42b3-ab92-c926b78900ee"
      },
      "execution_count": 67,
      "outputs": [
        {
          "output_type": "stream",
          "name": "stdout",
          "text": [
            "\n",
            "Tabla de contingencia Tipo de visa vs. Nivel académico:\n",
            "Nivel académico  (NO REGISTRA)  BACHILLERATO  POSTGRADO - DOCTORADO  \\\n",
            "Tipo de visa                                                          \n",
            "NEGOCIOS                   231             0                     15   \n",
            "TEMPORAL                  7898            34                    625   \n",
            "TRASPASOS                  329             0                    159   \n",
            "VISAS MIGRANTE               0             0                    638   \n",
            "VISAS RESIDENTE           1104             7                    291   \n",
            "VISAS VISITANTE              0             0                     70   \n",
            "\n",
            "Nivel académico  POSTGRADO - ESPECIALIZACI�N  POSTGRADO - MAESTRIA  \\\n",
            "Tipo de visa                                                         \n",
            "NEGOCIOS                                  56                    59   \n",
            "TEMPORAL                                2331                  2036   \n",
            "TRASPASOS                                681                   604   \n",
            "VISAS MIGRANTE                          2115                  1585   \n",
            "VISAS RESIDENTE                         1686                  1353   \n",
            "VISAS VISITANTE                          231                   170   \n",
            "\n",
            "Nivel académico  PREGRADO - PROFESIONAL  PREGRADO - TECNOL�GICO  \\\n",
            "Tipo de visa                                                      \n",
            "NEGOCIOS                            384                      30   \n",
            "TEMPORAL                          17466                    1488   \n",
            "TRASPASOS                          3978                     532   \n",
            "VISAS MIGRANTE                    17374                    1565   \n",
            "VISAS RESIDENTE                   12427                    2018   \n",
            "VISAS VISITANTE                    2261                     288   \n",
            "\n",
            "Nivel académico  PREGRADO - T�CNICO PROFESIONAL  PRIMARIA  SIN PROFESI�N  \n",
            "Tipo de visa                                                              \n",
            "NEGOCIOS                                     95         0            118  \n",
            "TEMPORAL                                   3304        13          11111  \n",
            "TRASPASOS                                   731         0           2650  \n",
            "VISAS MIGRANTE                             3082         0          12206  \n",
            "VISAS RESIDENTE                            3411         4           9602  \n",
            "VISAS VISITANTE                             543         0           2978  \n",
            "\n",
            "Tabla de contingencia Sexo vs. Tipo de visa:\n",
            "Tipo de visa  NEGOCIOS  TEMPORAL  TRASPASOS  VISAS MIGRANTE  VISAS RESIDENTE  \\\n",
            "Sexo                                                                           \n",
            "F                  299     21012       5069           18458            15910   \n",
            "M                  689     25294       4595           20106            15993   \n",
            "NB                   0         0          0               1                0   \n",
            "\n",
            "Tipo de visa  VISAS VISITANTE  \n",
            "Sexo                           \n",
            "F                        2083  \n",
            "M                        4457  \n",
            "NB                          1  \n"
          ]
        }
      ]
    },
    {
      "cell_type": "code",
      "source": [
        "# Matriz de correlación\n",
        "if not numeric_df.empty:\n",
        "    print(\"\\nMatriz de Correlación:\")\n",
        "    print(numeric_df.corr())\n",
        "else:\n",
        "    print(\"No hay columnas numéricas para calcular la matriz de correlación.\")"
      ],
      "metadata": {
        "colab": {
          "base_uri": "https://localhost:8080/"
        },
        "id": "kfI6uyZ6RX0M",
        "outputId": "76fcf4fa-68e7-40c1-e55f-313132f1f72e"
      },
      "execution_count": 68,
      "outputs": [
        {
          "output_type": "stream",
          "name": "stdout",
          "text": [
            "\n",
            "Matriz de Correlación:\n",
            "                                  Ciudad domicilio Colombia Código  \\\n",
            "Ciudad domicilio Colombia Código                          1.000000   \n",
            "Año Expedición                                            0.124317   \n",
            "Mes expedición                                           -0.018545   \n",
            "Numero                                                   -0.000145   \n",
            "\n",
            "                                  Año Expedición  Mes expedición    Numero  \n",
            "Ciudad domicilio Colombia Código        0.124317       -0.018545 -0.000145  \n",
            "Año Expedición                          1.000000       -0.076378 -0.054637  \n",
            "Mes expedición                         -0.076378        1.000000 -0.009082  \n",
            "Numero                                 -0.054637       -0.009082  1.000000  \n"
          ]
        }
      ]
    },
    {
      "cell_type": "code",
      "source": [
        "# Matriz de correlación para variables numéricas\n",
        "correlacion = df[['Edad', 'Numero']].corr()\n",
        "print(\"\\nMatriz de Correlación: Edad vs. Número\")\n",
        "print(correlacion)"
      ],
      "metadata": {
        "colab": {
          "base_uri": "https://localhost:8080/"
        },
        "id": "DFy1ZHwOR3Wb",
        "outputId": "33d072b3-77e4-4ac4-b72a-c46b45b257f9"
      },
      "execution_count": 52,
      "outputs": [
        {
          "output_type": "stream",
          "name": "stdout",
          "text": [
            "\n",
            "Matriz de Correlación: Edad vs. Número\n",
            "            Edad    Numero\n",
            "Edad    1.000000 -0.080965\n",
            "Numero -0.080965  1.000000\n"
          ]
        }
      ]
    },
    {
      "cell_type": "code",
      "source": [
        "# Heatmap de Correlación\n",
        "plt.figure(figsize=(6, 4))\n",
        "sns.heatmap(correlacion, annot=True, cmap='coolwarm', fmt='.2f', linewidths=0.5)\n",
        "plt.title(\"Heatmap de Correlación\")\n",
        "plt.show()"
      ],
      "metadata": {
        "colab": {
          "base_uri": "https://localhost:8080/",
          "height": 391
        },
        "id": "bMlfR2h0SW55",
        "outputId": "8d9cf709-cec8-4417-b204-bba497fd24db"
      },
      "execution_count": 69,
      "outputs": [
        {
          "output_type": "display_data",
          "data": {
            "text/plain": [
              "<Figure size 600x400 with 2 Axes>"
            ],
            "image/png": "[encoded data removed]"
          },
          "metadata": {}
        }
      ]
    }
  ]
}